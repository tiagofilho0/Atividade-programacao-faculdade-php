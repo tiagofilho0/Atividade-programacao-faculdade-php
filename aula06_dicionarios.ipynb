{
  "nbformat": 4,
  "nbformat_minor": 0,
  "metadata": {
    "colab": {
      "provenance": [],
      "authorship_tag": "ABX9TyN47rFxf8uH8XtRYD+srmOB",
      "include_colab_link": true
    },
    "kernelspec": {
      "name": "python3",
      "display_name": "Python 3"
    },
    "language_info": {
      "name": "python"
    }
  },
  "cells": [
    {
      "cell_type": "markdown",
      "metadata": {
        "id": "view-in-github",
        "colab_type": "text"
      },
      "source": [
        "<a href=\"https://colab.research.google.com/github/tiagofilho0/Atividade-programacao-faculdade-php/blob/main/aula06_dicionarios.ipynb\" target=\"_parent\"><img src=\"https://colab.research.google.com/assets/colab-badge.svg\" alt=\"Open In Colab\"/></a>"
      ]
    },
    {
      "cell_type": "code",
      "execution_count": null,
      "metadata": {
        "id": "8PMZ9W2SAty1",
        "colab": {
          "base_uri": "https://localhost:8080/"
        },
        "outputId": "e0a2764c-7a1e-4753-f58e-c4d3cd8b2aeb"
      },
      "outputs": [
        {
          "output_type": "execute_result",
          "data": {
            "text/plain": [
              "{'erica': 'erica@email.com', 'tiago': 'tiago@email.com'}"
            ]
          },
          "metadata": {},
          "execution_count": 7
        }
      ],
      "source": [
        "#criando dicionarios\n",
        "# para criar use {}\n",
        "\n",
        "contatos =  {'erica' : 'erica@email.com',\n",
        "'tiago' : 'tiago@email.com'}\n",
        "\n",
        "\n",
        "contatos\n"
      ]
    },
    {
      "cell_type": "code",
      "source": [
        "\n",
        "contatos.get('matheus' , 'contato inexistente')"
      ],
      "metadata": {
        "colab": {
          "base_uri": "https://localhost:8080/",
          "height": 35
        },
        "id": "74pFpyBlFzB2",
        "outputId": "e719e7fc-a3ae-43ca-c589-e89a2342a744"
      },
      "execution_count": null,
      "outputs": [
        {
          "output_type": "execute_result",
          "data": {
            "text/plain": [
              "'contato inexistente'"
            ],
            "application/vnd.google.colaboratory.intrinsic+json": {
              "type": "string"
            }
          },
          "metadata": {},
          "execution_count": 5
        }
      ]
    },
    {
      "cell_type": "code",
      "source": [
        "#criar\n",
        "\n",
        "lutadores =[ \n",
        "\n",
        "    {\n",
        "      'nome' : 'adesanya',\n",
        "      'categoria' : 'meio medio',\n",
        "      'envergadura' : 2\n",
        "    },{'nome' : 'marcos taison',\n",
        "       'categoria': 'mais ou menos pesado',\n",
        "       'envergadura' : 35}\n",
        "    ]\n",
        " \n",
        "lutadores\n",
        "    \n"
      ],
      "metadata": {
        "colab": {
          "base_uri": "https://localhost:8080/"
        },
        "id": "NFS13rYdGtTO",
        "outputId": "a25a489b-d842-4a81-f2f3-278be8c43b0a"
      },
      "execution_count": null,
      "outputs": [
        {
          "output_type": "execute_result",
          "data": {
            "text/plain": [
              "[{'nome': 'adesanya', 'categoria': 'meio medio', 'envergadura': 2},\n",
              " {'nome': 'marcos taison',\n",
              "  'categoria': 'mais ou menos pesado',\n",
              "  'envergadura': 35}]"
            ]
          },
          "metadata": {},
          "execution_count": 11
        }
      ]
    },
    {
      "cell_type": "code",
      "source": [
        "contatos ['matheus'] = 'matheus@email.com'\n",
        "\n",
        "contatos"
      ],
      "metadata": {
        "colab": {
          "base_uri": "https://localhost:8080/"
        },
        "id": "5255Na6ZI5w3",
        "outputId": "23c74c77-5d88-421c-953a-7b1981f7c6d1"
      },
      "execution_count": null,
      "outputs": [
        {
          "output_type": "execute_result",
          "data": {
            "text/plain": [
              "{'erica': 'erica@email.com',\n",
              " 'tiago': 'tiago@email.com',\n",
              " 'matheus': 'matheus@email.com',\n",
              " 'maria': 'maria@email.com',\n",
              " 'edileuza': 'edi@email.com'}"
            ]
          },
          "metadata": {},
          "execution_count": 18
        }
      ]
    },
    {
      "cell_type": "code",
      "source": [
        "#adiçao por concatenação\n",
        "contatin = {'sao': 'jorge@email.com',\n",
        "            'maria' : 'maria@email.com',\n",
        "            'edileuza': 'edi@email.com'}\n",
        "\n",
        "contatos.update(contatin)\n",
        "\n",
        "contatos"
      ],
      "metadata": {
        "colab": {
          "base_uri": "https://localhost:8080/"
        },
        "id": "6wbP8hPLJC2G",
        "outputId": "d46f8ae0-6a02-4eb1-b088-5f7e7f1009ac"
      },
      "execution_count": null,
      "outputs": [
        {
          "output_type": "execute_result",
          "data": {
            "text/plain": [
              "{'erica': 'erica@email.com',\n",
              " 'tiago': 'tiago@email.com',\n",
              " 'matheus': 'matheus@email.com',\n",
              " 'sao': 'jorge@email.com',\n",
              " 'maria': 'maria@email.com',\n",
              " 'edileuza': 'edi@email.com'}"
            ]
          },
          "metadata": {},
          "execution_count": 13
        }
      ]
    },
    {
      "cell_type": "code",
      "source": [
        "contatos ['tiago'] = ['tiaguin@email.com','tiago@email.com']\n",
        "\n",
        "contatos"
      ],
      "metadata": {
        "colab": {
          "base_uri": "https://localhost:8080/"
        },
        "id": "iB2w3hL3LgmD",
        "outputId": "8e10ab1a-cb8e-4869-eeda-515d266728a3"
      },
      "execution_count": null,
      "outputs": [
        {
          "output_type": "execute_result",
          "data": {
            "text/plain": [
              "{'erica': 'erica@email.com',\n",
              " 'tiago': ['tiaguin@email.com', 'tiago@email.com'],\n",
              " 'matheus': 'matheus@email.com',\n",
              " 'maria': 'maria@email.com',\n",
              " 'edileuza': 'edi@email.com'}"
            ]
          },
          "metadata": {},
          "execution_count": 21
        }
      ]
    },
    {
      "cell_type": "code",
      "source": [
        "#modificar (só inserir um novo valor á chave correspondente)\n",
        "\n",
        "contatos['sao'] = 'sao@email.com'\n",
        "\n",
        "contatos"
      ],
      "metadata": {
        "colab": {
          "base_uri": "https://localhost:8080/"
        },
        "id": "IldxArlJJ6i8",
        "outputId": "56337202-f54d-4256-ac6c-d32a44af8807"
      },
      "execution_count": null,
      "outputs": [
        {
          "output_type": "execute_result",
          "data": {
            "text/plain": [
              "{'erica': 'erica@email.com',\n",
              " 'tiago': 'tiago@email.com',\n",
              " 'matheus': 'matheus@email.com',\n",
              " 'sao': 'sao@email.com',\n",
              " 'maria': 'maria@email.com',\n",
              " 'edileuza': 'edi@email.com'}"
            ]
          },
          "metadata": {},
          "execution_count": 14
        }
      ]
    },
    {
      "cell_type": "code",
      "source": [
        "#delete\n",
        "\n",
        "del contatos['sao']\n",
        "\n",
        "contatos"
      ],
      "metadata": {
        "colab": {
          "base_uri": "https://localhost:8080/"
        },
        "id": "CWet8LK1K19t",
        "outputId": "974976c1-13ac-4655-e669-0b5b7c1eb5ae"
      },
      "execution_count": null,
      "outputs": [
        {
          "output_type": "execute_result",
          "data": {
            "text/plain": [
              "{'erica': 'erica@email.com',\n",
              " 'tiago': 'tiago@email.com',\n",
              " 'matheus': 'matheus@email.com',\n",
              " 'maria': 'maria@email.com',\n",
              " 'edileuza': 'edi@email.com'}"
            ]
          },
          "metadata": {},
          "execution_count": 17
        }
      ]
    },
    {
      "cell_type": "code",
      "source": [
        "contatos.items()"
      ],
      "metadata": {
        "colab": {
          "base_uri": "https://localhost:8080/"
        },
        "id": "dxeDy3ReMNS7",
        "outputId": "3f7c76cf-2c4e-4f19-a09b-29c33a2faef0"
      },
      "execution_count": null,
      "outputs": [
        {
          "output_type": "execute_result",
          "data": {
            "text/plain": [
              "dict_items([('erica', 'erica@email.com'), ('tiago', ['tiaguin@email.com', 'tiago@email.com']), ('matheus', 'matheus@email.com'), ('maria', 'maria@email.com'), ('edileuza', 'edi@email.com')])"
            ]
          },
          "metadata": {},
          "execution_count": 22
        }
      ]
    },
    {
      "cell_type": "code",
      "source": [
        "#iterando sobre dicionarios\n"
      ],
      "metadata": {
        "id": "wpk9XqOlMkQ5"
      },
      "execution_count": null,
      "outputs": []
    },
    {
      "cell_type": "code",
      "source": [
        "\n",
        "#CRUD\n",
        "#C - CREATE\n",
        "#R - RECOVERY\n",
        "#U - UPDATE\n",
        "#D - DELETE"
      ],
      "metadata": {
        "id": "OwaBBO_TISBV"
      },
      "execution_count": null,
      "outputs": []
    },
    {
      "cell_type": "code",
      "source": [
        "#metodos uteis keys(), values()\n",
        "\n",
        "contatos.keys()\n",
        "\n",
        "contatos.values()"
      ],
      "metadata": {
        "colab": {
          "base_uri": "https://localhost:8080/"
        },
        "id": "lHOBxPaPPvpL",
        "outputId": "60d3b7fa-4bae-40bb-8f25-344cdc0297e6"
      },
      "execution_count": null,
      "outputs": [
        {
          "output_type": "execute_result",
          "data": {
            "text/plain": [
              "dict_values(['erica@email.com', ['tiaguin@email.com', 'tiago@email.com'], 'matheus@email.com', 'maria@email.com', 'edi@email.com'])"
            ]
          },
          "metadata": {},
          "execution_count": 24
        }
      ]
    },
    {
      "cell_type": "code",
      "source": [
        "curso = {'alice' : 8.5,'tiago' :7.0,\n",
        "         'junio' : 5, 'jose' : 9.0}\n",
        "\n",
        "#maior nota\n",
        "max(curso, key = curso.get)\n"
      ],
      "metadata": {
        "colab": {
          "base_uri": "https://localhost:8080/",
          "height": 35
        },
        "id": "T5pP6p9GQ-Bn",
        "outputId": "090b0dc9-5548-4c51-f965-17005c444503"
      },
      "execution_count": null,
      "outputs": [
        {
          "output_type": "execute_result",
          "data": {
            "text/plain": [
              "'jose'"
            ],
            "application/vnd.google.colaboratory.intrinsic+json": {
              "type": "string"
            }
          },
          "metadata": {},
          "execution_count": 39
        }
      ]
    },
    {
      "cell_type": "code",
      "source": [
        "#menor nota\n",
        "\n",
        "min(curso, key = curso.get)"
      ],
      "metadata": {
        "colab": {
          "base_uri": "https://localhost:8080/",
          "height": 35
        },
        "id": "rVQjSjSqS4ZB",
        "outputId": "75196f06-336e-4ace-e5f6-d4c6494ec8c8"
      },
      "execution_count": null,
      "outputs": [
        {
          "output_type": "execute_result",
          "data": {
            "text/plain": [
              "'junio'"
            ],
            "application/vnd.google.colaboratory.intrinsic+json": {
              "type": "string"
            }
          },
          "metadata": {},
          "execution_count": 40
        }
      ]
    },
    {
      "cell_type": "code",
      "source": [
        "#ordene pela nota menor para o maior\n",
        "sorted(curso, key = curso.get)"
      ],
      "metadata": {
        "colab": {
          "base_uri": "https://localhost:8080/"
        },
        "id": "C3cGjb8DTe0K",
        "outputId": "01f8ed7e-cf5f-4bb4-d063-6efc185ae056"
      },
      "execution_count": null,
      "outputs": [
        {
          "output_type": "execute_result",
          "data": {
            "text/plain": [
              "['junio', 'tiago', 'alice', 'jose']"
            ]
          },
          "metadata": {},
          "execution_count": 42
        }
      ]
    },
    {
      "cell_type": "code",
      "source": [
        "sorted(curso,key = curso.get, reverse=True)"
      ],
      "metadata": {
        "colab": {
          "base_uri": "https://localhost:8080/"
        },
        "id": "W-Q309QXTrnI",
        "outputId": "5329af35-ada0-49bd-d438-253173cd0588"
      },
      "execution_count": null,
      "outputs": [
        {
          "output_type": "execute_result",
          "data": {
            "text/plain": [
              "['jose', 'alice', 'tiago', 'junio']"
            ]
          },
          "metadata": {},
          "execution_count": 44
        }
      ]
    },
    {
      "cell_type": "code",
      "source": [
        "corrida100m = {'ze' : 10, 'marco' : 9.9, 'marta' : 9.98 , 'lourdes' : 10.2, 'tiago' : 11}\n",
        "\n",
        "a = max(corrida100m, key = corrida100m.get)\n",
        "\n",
        "b = min(corrida100m, key = corrida100m.get)\n",
        "\n",
        "c = sorted(corrida100m,  key = corrida100m.get, reverse = True)\n",
        "\n",
        "print(f'quem chegou em primeiro foi {a}')\n",
        "print(f'quem chegou por ultimo foi {b}')\n",
        "print(f'E está é a lista de competidores do primeiro ao ultimo lugar {c}')"
      ],
      "metadata": {
        "colab": {
          "base_uri": "https://localhost:8080/"
        },
        "id": "TM7ryie-UNEl",
        "outputId": "1e8b13e5-0410-4328-87cf-31dfaa901775"
      },
      "execution_count": null,
      "outputs": [
        {
          "output_type": "stream",
          "name": "stdout",
          "text": [
            "quem chegou em primeiro foi tiago\n",
            "quem chegou por ultimo foi marco\n",
            "E está é a lista de competidores do primeiro ao ultimo lugar ['tiago', 'lourdes', 'ze', 'marta', 'marco']\n"
          ]
        }
      ]
    },
    {
      "cell_type": "code",
      "source": [
        "ProvaA = {'andre' : 8.5, 'ana' : 7.0,'chico' : 6.5 ,'nubia' : 8}\n",
        "provaB = {'juliana' : 5.5, 'marquinhos' :6.9,'jonathan' :9.5, 'camila' : 10 , 'joão' : 8.0}\n",
        "\n",
        "resultado_final = {} #novo dicionario resultado_final\n",
        "resultado_final.update(ProvaA)\n",
        "resultado_final.update(provaB)\n",
        "\n",
        "resultado_final\n"
      ],
      "metadata": {
        "colab": {
          "base_uri": "https://localhost:8080/"
        },
        "id": "YzHw6VVfFSpB",
        "outputId": "9f275d96-6810-4130-f4d9-0509247cabc9"
      },
      "execution_count": 5,
      "outputs": [
        {
          "output_type": "execute_result",
          "data": {
            "text/plain": [
              "{'andre': 8.5,\n",
              " 'ana': 7.0,\n",
              " 'chico': 6.5,\n",
              " 'nubia': 8,\n",
              " 'juliana': 5.5,\n",
              " 'marquinhos': 6.9,\n",
              " 'jonathan': 9.5,\n",
              " 'camila': 10,\n",
              " 'joão': 8.0}"
            ]
          },
          "metadata": {},
          "execution_count": 5
        }
      ]
    },
    {
      "cell_type": "code",
      "source": [
        "sorted(resultado_final, key = resultado_final.get, reverse = True) #ordenação crescente\n"
      ],
      "metadata": {
        "colab": {
          "base_uri": "https://localhost:8080/"
        },
        "id": "n8zBVmN2HMQU",
        "outputId": "b7efcfc8-4e79-4f4f-9624-eb477d54b9d7"
      },
      "execution_count": 12,
      "outputs": [
        {
          "output_type": "execute_result",
          "data": {
            "text/plain": [
              "['camila',\n",
              " 'jonathan',\n",
              " 'andre',\n",
              " 'nubia',\n",
              " 'joão',\n",
              " 'ana',\n",
              " 'marquinhos',\n",
              " 'chico',\n",
              " 'juliana']"
            ]
          },
          "metadata": {},
          "execution_count": 12
        }
      ]
    },
    {
      "cell_type": "code",
      "source": [
        "sorted(resultado_final.items(), key = lambda x : x[1],reverse = True) #ordenação crescente"
      ],
      "metadata": {
        "colab": {
          "base_uri": "https://localhost:8080/"
        },
        "id": "s6an0riZJ01y",
        "outputId": "ffe28862-0248-4066-a10f-48088bbc1798"
      },
      "execution_count": 17,
      "outputs": [
        {
          "output_type": "execute_result",
          "data": {
            "text/plain": [
              "[('camila', 10),\n",
              " ('jonathan', 9.5),\n",
              " ('andre', 8.5),\n",
              " ('nubia', 8),\n",
              " ('joão', 8.0),\n",
              " ('ana', 7.0),\n",
              " ('marquinhos', 6.9),\n",
              " ('chico', 6.5),\n",
              " ('juliana', 5.5)]"
            ]
          },
          "metadata": {},
          "execution_count": 17
        }
      ]
    },
    {
      "cell_type": "code",
      "source": [
        "for nome, nota in resultado_final.items():\n",
        "  print (f'{nome} ----- {nota}')"
      ],
      "metadata": {
        "colab": {
          "base_uri": "https://localhost:8080/"
        },
        "id": "JJUc-80qJ076",
        "outputId": "23353cd2-a319-49a8-fc08-cd7ac86d285f"
      },
      "execution_count": 18,
      "outputs": [
        {
          "output_type": "stream",
          "name": "stdout",
          "text": [
            "andre ----- 8.5\n",
            "ana ----- 7.0\n",
            "chico ----- 6.5\n",
            "nubia ----- 8\n",
            "juliana ----- 5.5\n",
            "marquinhos ----- 6.9\n",
            "jonathan ----- 9.5\n",
            "camila ----- 10\n",
            "joão ----- 8.0\n"
          ]
        }
      ]
    },
    {
      "cell_type": "code",
      "source": [
        "#transformando dicionario em lista\n",
        "listacandidatos = list(resultado_final.keys())\n",
        "listacandidatos"
      ],
      "metadata": {
        "colab": {
          "base_uri": "https://localhost:8080/"
        },
        "id": "YzMhQn-zLXkU",
        "outputId": "a196fdf4-9bd3-4f6f-b837-bbdec12fb0e7"
      },
      "execution_count": 20,
      "outputs": [
        {
          "output_type": "execute_result",
          "data": {
            "text/plain": [
              "['andre',\n",
              " 'ana',\n",
              " 'chico',\n",
              " 'nubia',\n",
              " 'juliana',\n",
              " 'marquinhos',\n",
              " 'jonathan',\n",
              " 'camila',\n",
              " 'joão']"
            ]
          },
          "metadata": {},
          "execution_count": 20
        }
      ]
    },
    {
      "cell_type": "code",
      "source": [
        "listanotas = list(resultado_final.values())\n",
        "listanotas"
      ],
      "metadata": {
        "colab": {
          "base_uri": "https://localhost:8080/"
        },
        "id": "1Bj3grItL-mK",
        "outputId": "30647be3-c669-417b-e754-bd9af58f2cd0"
      },
      "execution_count": 29,
      "outputs": [
        {
          "output_type": "execute_result",
          "data": {
            "text/plain": [
              "[8.5, 7.0, 6.5, 8, 5.5, 6.9, 9.5, 10, 8.0]"
            ]
          },
          "metadata": {},
          "execution_count": 29
        }
      ]
    },
    {
      "cell_type": "code",
      "source": [
        "def consultaNota(dicionario,nome):\n",
        " return dicionario.get(nome, 'candidato não existe')\n",
        "\n",
        "\n",
        "consultaNota(resultado_final,'camila')\n"
      ],
      "metadata": {
        "colab": {
          "base_uri": "https://localhost:8080/"
        },
        "id": "FYYB64ZxNGBS",
        "outputId": "6ebf2182-b954-4323-b3ea-7cdc77591124"
      },
      "execution_count": 51,
      "outputs": [
        {
          "output_type": "execute_result",
          "data": {
            "text/plain": [
              "10"
            ]
          },
          "metadata": {},
          "execution_count": 51
        }
      ]
    }
  ]
}